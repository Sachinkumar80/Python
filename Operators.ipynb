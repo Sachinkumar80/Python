{
 "cells": [
  {
   "cell_type": "code",
   "execution_count": 15,
   "id": "b3f4f9a2-72e7-4a60-a26c-07ce43ae4428",
   "metadata": {},
   "outputs": [
    {
     "name": "stdout",
     "output_type": "stream",
     "text": [
      "6\n",
      "2\n",
      "8\n",
      "2.0\n",
      "0\n",
      "16\n"
     ]
    }
   ],
   "source": [
    "# Arithmetic Operators\n",
    "x = 4\n",
    "y = 2\n",
    "\n",
    "total = (x+y)\n",
    "print(total)\n",
    "\n",
    "total = (x - y)\n",
    "print(total)\n",
    "\n",
    "total = (x * y)\n",
    "print(total)\n",
    "\n",
    "total = (x/y)\n",
    "print(total)\n",
    "\n",
    "total = x % y \n",
    "print(total)\n",
    "\n",
    "total = x**y\n",
    "print(total)"
   ]
  },
  {
   "cell_type": "code",
   "execution_count": 25,
   "id": "4645dcc6-c670-4362-a528-ff4ba06cf206",
   "metadata": {},
   "outputs": [
    {
     "name": "stdout",
     "output_type": "stream",
     "text": [
      "True\n",
      "False\n",
      "False\n",
      "True\n",
      "False\n",
      "True\n"
     ]
    }
   ],
   "source": [
    "# COMPARISON OPERATORS \n",
    "\n",
    "a = 30\n",
    "b = 60\n",
    "\n",
    "out = (a < b)\n",
    "print(out)\n",
    "\n",
    "out = (a > b)\n",
    "print(out)\n",
    "\n",
    "out = (a == b)\n",
    "print(out)\n",
    "\n",
    "out = (a != b)\n",
    "print(out)\n",
    "\n",
    "out = (a >= b)\n",
    "print(out)\n",
    "\n",
    "out = (a <= b)\n",
    "print(out)"
   ]
  },
  {
   "cell_type": "code",
   "execution_count": 36,
   "id": "29df3ef5-17b8-46aa-a480-e7f1a5a3a028",
   "metadata": {},
   "outputs": [
    {
     "name": "stdout",
     "output_type": "stream",
     "text": [
      "1\n",
      "0\n"
     ]
    }
   ],
   "source": [
    "# Assignment Operators \n",
    "\n",
    "c = 0\n",
    "d = 1\n",
    "\n",
    "c+=d # C = C+D \n",
    "print(c)\n",
    "\n",
    "c-=d # C = C-D \n",
    "print(c)"
   ]
  },
  {
   "cell_type": "code",
   "execution_count": 46,
   "id": "771724e1-5ad4-4c5e-a51f-1303a8c5f24d",
   "metadata": {},
   "outputs": [
    {
     "name": "stdout",
     "output_type": "stream",
     "text": [
      "False\n",
      "True\n",
      "True\n",
      "False\n",
      "False\n",
      "True\n",
      "False\n"
     ]
    }
   ],
   "source": [
    "# Logical Operators \n",
    "\n",
    "# and\n",
    "# or \n",
    "# not - for neglect something\n",
    "\n",
    "a = 40 \n",
    "b = 50 \n",
    "\n",
    "x = 3 \n",
    "y = 6 \n",
    "\n",
    "out = (a > b) or (x > y) # Both false \n",
    "print(out)\n",
    "\n",
    "out = (a > b) or (x < y) # 1 false 1 right\n",
    "print(out)\n",
    "\n",
    "out = (a < b) or (x < y) # # both right \n",
    "print(out)\n",
    "\n",
    "out = (a > b) and (x > y) # Both false \n",
    "print(out)\n",
    "\n",
    "out = (a > b) and (x < y) # 1 false 1 right\n",
    "print(out)\n",
    "\n",
    "out = (a < b) and (x < y) #  both right, means and is very strict \n",
    "print(out)\n",
    "\n",
    "out = not(x < y) # neglect true value into false one.\n",
    "print(out)"
   ]
  },
  {
   "cell_type": "code",
   "execution_count": 64,
   "id": "44cb88fa-c735-4023-8ce6-c94b9c040fe4",
   "metadata": {},
   "outputs": [
    {
     "name": "stdout",
     "output_type": "stream",
     "text": [
      "True\n",
      "False\n",
      "True\n",
      "False\n"
     ]
    }
   ],
   "source": [
    "# Memebership Operators \n",
    "\n",
    "Tuple = (\"IOT\", 67, \"Ansible\", \"AWS\", 78)\n",
    "ans = \"AWS\" in Tuple\n",
    "print(ans)\n",
    "\n",
    "Tuple = (\"IOT\", 67, \"Ansible\", \"AWS\", 78)\n",
    "ans = \"AWS\" not in Tuple\n",
    "print(ans)\n",
    "\n",
    "Tuple = (\"IOT\", 67, \"Ansible\", \"AWS\", 78)\n",
    "ans = 78 in Tuple\n",
    "print(ans)\n",
    "\n",
    "Tuple = (\"IOT\", 67, \"Ansible\", \"AWS\", 78)\n",
    "ans = 78 not in Tuple\n",
    "print(ans)"
   ]
  },
  {
   "cell_type": "code",
   "execution_count": 66,
   "id": "03030918-e271-4de5-a7f7-4983a1b00901",
   "metadata": {},
   "outputs": [
    {
     "name": "stdout",
     "output_type": "stream",
     "text": [
      "False\n",
      "True\n"
     ]
    }
   ],
   "source": [
    "# Identity operators\n",
    "a = 12\n",
    "b = 14\n",
    "\n",
    "result = a is b # reverse of Membership operators, a = b hai\n",
    "print(result)\n",
    "\n",
    "result = a is not b #  a /= b not equal to \n",
    "print(result)"
   ]
  },
  {
   "cell_type": "code",
   "execution_count": null,
   "id": "05d78192-d382-40e9-93f0-88005efe2b71",
   "metadata": {},
   "outputs": [],
   "source": []
  }
 ],
 "metadata": {
  "kernelspec": {
   "display_name": "Python 3 (ipykernel)",
   "language": "python",
   "name": "python3"
  },
  "language_info": {
   "codemirror_mode": {
    "name": "ipython",
    "version": 3
   },
   "file_extension": ".py",
   "mimetype": "text/x-python",
   "name": "python",
   "nbconvert_exporter": "python",
   "pygments_lexer": "ipython3",
   "version": "3.12.4"
  }
 },
 "nbformat": 4,
 "nbformat_minor": 5
}
